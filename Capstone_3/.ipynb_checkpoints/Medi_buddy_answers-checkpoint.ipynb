{
 "cells": [
  {
   "cell_type": "code",
   "execution_count": 1,
   "id": "731a5f40",
   "metadata": {},
   "outputs": [],
   "source": [
    "#22/11/2021\n",
    "#Importing necessary libraries\n",
    "\n",
    "#importing data handling libraries\n",
    "import pandas as pd\n",
    "import numpy as np\n",
    "from collections import OrderedDict\n",
    "from pandasql import sqldf\n",
    "\n",
    "\n",
    "#importing data visualization libraries\n",
    "import matplotlib.pyplot as plt\n",
    "import seaborn as sns\n",
    "\n",
    "#importing statistical libraries\n",
    "import scipy.stats as sc\n",
    "from statsmodels.stats.outliers_influence import variance_inflation_factor\n",
    "\n",
    "#importing data preprocessing libraries\n",
    "from sklearn.preprocessing import StandardScaler\n",
    "from sklearn.decomposition import PCA\n",
    "\n",
    "\n",
    "#importing machine learning libraries\n",
    "from sklearn.linear_model import LinearRegression, Lasso, Ridge\n",
    "from sklearn.tree import DecisionTreeRegressor\n",
    "from sklearn.neighbors import KNeighborsRegressor\n",
    "from sklearn.svm import SVR\n",
    "from sklearn.ensemble import RandomForestRegressor, AdaBoostRegressor, GradientBoostingRegressor\n",
    "import xgboost\n",
    "from xgboost import XGBRegressor\n",
    "\n",
    "\n",
    "#importing validation and model selection libraries\n",
    "from sklearn.model_selection import train_test_split, cross_val_score, GridSearchCV, learning_curve\n",
    "from sklearn.metrics import r2_score, mean_squared_error\n",
    "\n",
    "\n",
    "#importing libraries to handle warnings\n",
    "import warnings\n",
    "warnings.filterwarnings('ignore')"
   ]
  },
  {
   "cell_type": "code",
   "execution_count": 2,
   "id": "8ec4d2dc",
   "metadata": {},
   "outputs": [],
   "source": [
    "df_personal = pd.read_excel('Medibuddy insurance data personal details.xlsx')\n",
    "df_insurance = pd.read_csv('Medibuddy Insurance Data Price.csv')"
   ]
  },
  {
   "cell_type": "code",
   "execution_count": 3,
   "id": "ea8bb7ea",
   "metadata": {},
   "outputs": [
    {
     "data": {
      "text/html": [
       "<div>\n",
       "<style scoped>\n",
       "    .dataframe tbody tr th:only-of-type {\n",
       "        vertical-align: middle;\n",
       "    }\n",
       "\n",
       "    .dataframe tbody tr th {\n",
       "        vertical-align: top;\n",
       "    }\n",
       "\n",
       "    .dataframe thead th {\n",
       "        text-align: right;\n",
       "    }\n",
       "</style>\n",
       "<table border=\"1\" class=\"dataframe\">\n",
       "  <thead>\n",
       "    <tr style=\"text-align: right;\">\n",
       "      <th></th>\n",
       "      <th>Policy_number</th>\n",
       "      <th>children</th>\n",
       "      <th>smoker</th>\n",
       "      <th>region</th>\n",
       "    </tr>\n",
       "  </thead>\n",
       "  <tbody>\n",
       "    <tr>\n",
       "      <th>0</th>\n",
       "      <td>PLC157006</td>\n",
       "      <td>0</td>\n",
       "      <td>no</td>\n",
       "      <td>southwest</td>\n",
       "    </tr>\n",
       "    <tr>\n",
       "      <th>1</th>\n",
       "      <td>PLC157033</td>\n",
       "      <td>1</td>\n",
       "      <td>no</td>\n",
       "      <td>southwest</td>\n",
       "    </tr>\n",
       "    <tr>\n",
       "      <th>2</th>\n",
       "      <td>PLC157060</td>\n",
       "      <td>0</td>\n",
       "      <td>no</td>\n",
       "      <td>southwest</td>\n",
       "    </tr>\n",
       "    <tr>\n",
       "      <th>3</th>\n",
       "      <td>PLC157087</td>\n",
       "      <td>1</td>\n",
       "      <td>no</td>\n",
       "      <td>southwest</td>\n",
       "    </tr>\n",
       "    <tr>\n",
       "      <th>4</th>\n",
       "      <td>PLC157186</td>\n",
       "      <td>5</td>\n",
       "      <td>no</td>\n",
       "      <td>southwest</td>\n",
       "    </tr>\n",
       "  </tbody>\n",
       "</table>\n",
       "</div>"
      ],
      "text/plain": [
       "  Policy_number  children smoker     region\n",
       "0     PLC157006         0     no  southwest\n",
       "1     PLC157033         1     no  southwest\n",
       "2     PLC157060         0     no  southwest\n",
       "3     PLC157087         1     no  southwest\n",
       "4     PLC157186         5     no  southwest"
      ]
     },
     "execution_count": 3,
     "metadata": {},
     "output_type": "execute_result"
    }
   ],
   "source": [
    "df_personal.rename(columns = {'Policy no.':'Policy_number'}, inplace = True)\n",
    "df_personal.head()"
   ]
  },
  {
   "cell_type": "code",
   "execution_count": 4,
   "id": "0d42c41b",
   "metadata": {},
   "outputs": [
    {
     "data": {
      "text/html": [
       "<div>\n",
       "<style scoped>\n",
       "    .dataframe tbody tr th:only-of-type {\n",
       "        vertical-align: middle;\n",
       "    }\n",
       "\n",
       "    .dataframe tbody tr th {\n",
       "        vertical-align: top;\n",
       "    }\n",
       "\n",
       "    .dataframe thead th {\n",
       "        text-align: right;\n",
       "    }\n",
       "</style>\n",
       "<table border=\"1\" class=\"dataframe\">\n",
       "  <thead>\n",
       "    <tr style=\"text-align: right;\">\n",
       "      <th></th>\n",
       "      <th>Policy_number</th>\n",
       "      <th>age</th>\n",
       "      <th>sex</th>\n",
       "      <th>bmi</th>\n",
       "      <th>charges in INR</th>\n",
       "    </tr>\n",
       "  </thead>\n",
       "  <tbody>\n",
       "    <tr>\n",
       "      <th>0</th>\n",
       "      <td>PLC156898</td>\n",
       "      <td>19</td>\n",
       "      <td>female</td>\n",
       "      <td>27.900</td>\n",
       "      <td>16884.92400</td>\n",
       "    </tr>\n",
       "    <tr>\n",
       "      <th>1</th>\n",
       "      <td>PLC156907</td>\n",
       "      <td>18</td>\n",
       "      <td>male</td>\n",
       "      <td>33.770</td>\n",
       "      <td>1725.55230</td>\n",
       "    </tr>\n",
       "    <tr>\n",
       "      <th>2</th>\n",
       "      <td>PLC156916</td>\n",
       "      <td>28</td>\n",
       "      <td>male</td>\n",
       "      <td>33.000</td>\n",
       "      <td>4449.46200</td>\n",
       "    </tr>\n",
       "    <tr>\n",
       "      <th>3</th>\n",
       "      <td>PLC156925</td>\n",
       "      <td>33</td>\n",
       "      <td>male</td>\n",
       "      <td>22.705</td>\n",
       "      <td>21984.47061</td>\n",
       "    </tr>\n",
       "    <tr>\n",
       "      <th>4</th>\n",
       "      <td>PLC156934</td>\n",
       "      <td>32</td>\n",
       "      <td>male</td>\n",
       "      <td>28.880</td>\n",
       "      <td>3866.85520</td>\n",
       "    </tr>\n",
       "  </tbody>\n",
       "</table>\n",
       "</div>"
      ],
      "text/plain": [
       "  Policy_number  age     sex     bmi  charges in INR\n",
       "0     PLC156898   19  female  27.900     16884.92400\n",
       "1     PLC156907   18    male  33.770      1725.55230\n",
       "2     PLC156916   28    male  33.000      4449.46200\n",
       "3     PLC156925   33    male  22.705     21984.47061\n",
       "4     PLC156934   32    male  28.880      3866.85520"
      ]
     },
     "execution_count": 4,
     "metadata": {},
     "output_type": "execute_result"
    }
   ],
   "source": [
    "df_insurance.rename(columns = {'Policy no.':'Policy_number'}, inplace = True)\n",
    "df_insurance.head()"
   ]
  },
  {
   "cell_type": "markdown",
   "id": "cc9edc30",
   "metadata": {},
   "source": [
    "# Share your analysis for the below: \n",
    "#### 1. Does the gender of the person matter for the company as a constraint for  extending policies? \n",
    "#### 2. What is the average amount of money the company spent over each policy  cover? \n",
    "#### 3. Could you advice if the company needs to offer separate policies based upon the  geographic location of the person? \n",
    "#### 4. Does the no. of dependents make a difference in the amount claimed?\n",
    "#### 5. Does a study of persons BMI get the company any idea for the insurance claim  that it would extend? \n",
    "#### 6. Is it needed for the company to understand whether the person covered is a  smoker or a non-smoker? \n",
    "#### 7. Does age have any barrier on the insurance claimed? \n",
    "#### 8. Can the company extend certain discounts after checking the health status  (BMI) in this case? \n",
    "#### In addition to the above analysis, build a machine learning model to predict the  amount spent to the utmost accuracy. Validate and hyper parametrically tune the  model to get the best results.\n"
   ]
  },
  {
   "cell_type": "code",
   "execution_count": 5,
   "id": "628d2c24",
   "metadata": {},
   "outputs": [],
   "source": [
    "mysql = lambda q: sqldf(q, globals())"
   ]
  },
  {
   "cell_type": "code",
   "execution_count": 6,
   "id": "9fd7d895",
   "metadata": {},
   "outputs": [],
   "source": [
    "query = '''select * from df_insurance inner join df_personal on df_insurance.Policy_number = df_personal.Policy_number where sex = 'female';'''\n",
    "female_table = mysql(query)"
   ]
  },
  {
   "cell_type": "code",
   "execution_count": 13,
   "id": "4b4b4a25",
   "metadata": {},
   "outputs": [
    {
     "data": {
      "text/html": [
       "<div>\n",
       "<style scoped>\n",
       "    .dataframe tbody tr th:only-of-type {\n",
       "        vertical-align: middle;\n",
       "    }\n",
       "\n",
       "    .dataframe tbody tr th {\n",
       "        vertical-align: top;\n",
       "    }\n",
       "\n",
       "    .dataframe thead th {\n",
       "        text-align: right;\n",
       "    }\n",
       "</style>\n",
       "<table border=\"1\" class=\"dataframe\">\n",
       "  <thead>\n",
       "    <tr style=\"text-align: right;\">\n",
       "      <th></th>\n",
       "      <th>Policy_number</th>\n",
       "      <th>age</th>\n",
       "      <th>sex</th>\n",
       "      <th>bmi</th>\n",
       "      <th>charges in INR</th>\n",
       "      <th>Policy_number</th>\n",
       "      <th>children</th>\n",
       "      <th>smoker</th>\n",
       "      <th>region</th>\n",
       "    </tr>\n",
       "  </thead>\n",
       "  <tbody>\n",
       "    <tr>\n",
       "      <th>0</th>\n",
       "      <td>PLC156898</td>\n",
       "      <td>19</td>\n",
       "      <td>female</td>\n",
       "      <td>27.90</td>\n",
       "      <td>16884.92400</td>\n",
       "      <td>PLC156898</td>\n",
       "      <td>0</td>\n",
       "      <td>yes</td>\n",
       "      <td>southwest</td>\n",
       "    </tr>\n",
       "    <tr>\n",
       "      <th>1</th>\n",
       "      <td>PLC156943</td>\n",
       "      <td>31</td>\n",
       "      <td>female</td>\n",
       "      <td>25.74</td>\n",
       "      <td>3756.62160</td>\n",
       "      <td>PLC156943</td>\n",
       "      <td>0</td>\n",
       "      <td>no</td>\n",
       "      <td>southeast</td>\n",
       "    </tr>\n",
       "    <tr>\n",
       "      <th>2</th>\n",
       "      <td>PLC156952</td>\n",
       "      <td>46</td>\n",
       "      <td>female</td>\n",
       "      <td>33.44</td>\n",
       "      <td>8240.58960</td>\n",
       "      <td>PLC156952</td>\n",
       "      <td>1</td>\n",
       "      <td>no</td>\n",
       "      <td>southeast</td>\n",
       "    </tr>\n",
       "    <tr>\n",
       "      <th>3</th>\n",
       "      <td>PLC156961</td>\n",
       "      <td>37</td>\n",
       "      <td>female</td>\n",
       "      <td>27.74</td>\n",
       "      <td>7281.50560</td>\n",
       "      <td>PLC156961</td>\n",
       "      <td>3</td>\n",
       "      <td>no</td>\n",
       "      <td>northwest</td>\n",
       "    </tr>\n",
       "    <tr>\n",
       "      <th>4</th>\n",
       "      <td>PLC156979</td>\n",
       "      <td>60</td>\n",
       "      <td>female</td>\n",
       "      <td>25.84</td>\n",
       "      <td>28923.13692</td>\n",
       "      <td>PLC156979</td>\n",
       "      <td>0</td>\n",
       "      <td>no</td>\n",
       "      <td>northwest</td>\n",
       "    </tr>\n",
       "  </tbody>\n",
       "</table>\n",
       "</div>"
      ],
      "text/plain": [
       "  Policy_number  age     sex    bmi  charges in INR Policy_number  children  \\\n",
       "0     PLC156898   19  female  27.90     16884.92400     PLC156898         0   \n",
       "1     PLC156943   31  female  25.74      3756.62160     PLC156943         0   \n",
       "2     PLC156952   46  female  33.44      8240.58960     PLC156952         1   \n",
       "3     PLC156961   37  female  27.74      7281.50560     PLC156961         3   \n",
       "4     PLC156979   60  female  25.84     28923.13692     PLC156979         0   \n",
       "\n",
       "  smoker     region  \n",
       "0    yes  southwest  \n",
       "1     no  southeast  \n",
       "2     no  southeast  \n",
       "3     no  northwest  \n",
       "4     no  northwest  "
      ]
     },
     "execution_count": 13,
     "metadata": {},
     "output_type": "execute_result"
    }
   ],
   "source": [
    "female_table.head()"
   ]
  },
  {
   "cell_type": "code",
   "execution_count": 14,
   "id": "d19b7116",
   "metadata": {},
   "outputs": [
    {
     "name": "stdout",
     "output_type": "stream",
     "text": [
      "Percentage of policies with female persons is 49.47683109118087\n"
     ]
    }
   ],
   "source": [
    "people = len(df_insurance['Policy_number'])\n",
    "female = len(female_table['Policy_number'])\n",
    "percent = female*100/people\n",
    "print(f'Percentage of policies with female persons is {percent}')\n",
    "\n",
    "#As percentage is almost 50% gender of the person doesn't matter in extending policies"
   ]
  },
  {
   "cell_type": "code",
   "execution_count": 21,
   "id": "11baa883",
   "metadata": {},
   "outputs": [],
   "source": [
    "average_female = female_table['charges in INR'].mean()\n",
    "average_total = df_insurance['charges in INR'].mean()"
   ]
  },
  {
   "cell_type": "code",
   "execution_count": 22,
   "id": "370ce70c",
   "metadata": {},
   "outputs": [
    {
     "data": {
      "text/plain": [
       "13270.422265141257"
      ]
     },
     "execution_count": 22,
     "metadata": {},
     "output_type": "execute_result"
    }
   ],
   "source": [
    "average_total"
   ]
  },
  {
   "cell_type": "code",
   "execution_count": 23,
   "id": "e0abdcab",
   "metadata": {},
   "outputs": [
    {
     "data": {
      "text/plain": [
       "12569.57884383534"
      ]
     },
     "execution_count": 23,
     "metadata": {},
     "output_type": "execute_result"
    }
   ],
   "source": [
    "average_female"
   ]
  },
  {
   "cell_type": "code",
   "execution_count": 8,
   "id": "7954da34",
   "metadata": {},
   "outputs": [
    {
     "data": {
      "text/plain": [
       "13270.422265141257"
      ]
     },
     "execution_count": 8,
     "metadata": {},
     "output_type": "execute_result"
    }
   ],
   "source": [
    "query1 = '''select AVG(\"charges in INR\") from df_insurance;'''\n",
    "mysql(query1) # method 1\n",
    "np.average(df_insurance['charges in INR']) # method 2"
   ]
  },
  {
   "cell_type": "code",
   "execution_count": 9,
   "id": "5f093c27",
   "metadata": {},
   "outputs": [
    {
     "data": {
      "text/html": [
       "<div>\n",
       "<style scoped>\n",
       "    .dataframe tbody tr th:only-of-type {\n",
       "        vertical-align: middle;\n",
       "    }\n",
       "\n",
       "    .dataframe tbody tr th {\n",
       "        vertical-align: top;\n",
       "    }\n",
       "\n",
       "    .dataframe thead th {\n",
       "        text-align: right;\n",
       "    }\n",
       "</style>\n",
       "<table border=\"1\" class=\"dataframe\">\n",
       "  <thead>\n",
       "    <tr style=\"text-align: right;\">\n",
       "      <th></th>\n",
       "      <th>AVG(\"charges in INR\")</th>\n",
       "    </tr>\n",
       "  </thead>\n",
       "  <tbody>\n",
       "    <tr>\n",
       "      <th>0</th>\n",
       "      <td>12346.937377</td>\n",
       "    </tr>\n",
       "  </tbody>\n",
       "</table>\n",
       "</div>"
      ],
      "text/plain": [
       "   AVG(\"charges in INR\")\n",
       "0           12346.937377"
      ]
     },
     "execution_count": 9,
     "metadata": {},
     "output_type": "execute_result"
    }
   ],
   "source": [
    "query1 = '''select AVG(\"charges in INR\") from df_personal as dp inner join df_insurance as di on dp.Policy_number = di.Policy_number where region = 'southwest';'''\n",
    "mysql(query1)"
   ]
  },
  {
   "cell_type": "code",
   "execution_count": 10,
   "id": "7ed9e558",
   "metadata": {},
   "outputs": [
    {
     "data": {
      "text/html": [
       "<div>\n",
       "<style scoped>\n",
       "    .dataframe tbody tr th:only-of-type {\n",
       "        vertical-align: middle;\n",
       "    }\n",
       "\n",
       "    .dataframe tbody tr th {\n",
       "        vertical-align: top;\n",
       "    }\n",
       "\n",
       "    .dataframe thead th {\n",
       "        text-align: right;\n",
       "    }\n",
       "</style>\n",
       "<table border=\"1\" class=\"dataframe\">\n",
       "  <thead>\n",
       "    <tr style=\"text-align: right;\">\n",
       "      <th></th>\n",
       "      <th>AVG(\"charges in INR\")</th>\n",
       "    </tr>\n",
       "  </thead>\n",
       "  <tbody>\n",
       "    <tr>\n",
       "      <th>0</th>\n",
       "      <td>14735.411438</td>\n",
       "    </tr>\n",
       "  </tbody>\n",
       "</table>\n",
       "</div>"
      ],
      "text/plain": [
       "   AVG(\"charges in INR\")\n",
       "0           14735.411438"
      ]
     },
     "execution_count": 10,
     "metadata": {},
     "output_type": "execute_result"
    }
   ],
   "source": [
    "query2 = '''select AVG(\"charges in INR\") from df_personal as dp inner join df_insurance as di on dp.Policy_number = di.Policy_number where region = 'southeast';'''\n",
    "mysql(query2)"
   ]
  },
  {
   "cell_type": "code",
   "execution_count": 11,
   "id": "f812494d",
   "metadata": {},
   "outputs": [
    {
     "data": {
      "text/html": [
       "<div>\n",
       "<style scoped>\n",
       "    .dataframe tbody tr th:only-of-type {\n",
       "        vertical-align: middle;\n",
       "    }\n",
       "\n",
       "    .dataframe tbody tr th {\n",
       "        vertical-align: top;\n",
       "    }\n",
       "\n",
       "    .dataframe thead th {\n",
       "        text-align: right;\n",
       "    }\n",
       "</style>\n",
       "<table border=\"1\" class=\"dataframe\">\n",
       "  <thead>\n",
       "    <tr style=\"text-align: right;\">\n",
       "      <th></th>\n",
       "      <th>AVG(\"charges in INR\")</th>\n",
       "    </tr>\n",
       "  </thead>\n",
       "  <tbody>\n",
       "    <tr>\n",
       "      <th>0</th>\n",
       "      <td>12417.575374</td>\n",
       "    </tr>\n",
       "  </tbody>\n",
       "</table>\n",
       "</div>"
      ],
      "text/plain": [
       "   AVG(\"charges in INR\")\n",
       "0           12417.575374"
      ]
     },
     "execution_count": 11,
     "metadata": {},
     "output_type": "execute_result"
    }
   ],
   "source": [
    "query3 = '''select AVG(\"charges in INR\") from df_personal as dp inner join df_insurance as di on dp.Policy_number = di.Policy_number where region = 'northwest';'''\n",
    "mysql(query3)"
   ]
  },
  {
   "cell_type": "code",
   "execution_count": 12,
   "id": "047e0d2c",
   "metadata": {},
   "outputs": [
    {
     "data": {
      "text/html": [
       "<div>\n",
       "<style scoped>\n",
       "    .dataframe tbody tr th:only-of-type {\n",
       "        vertical-align: middle;\n",
       "    }\n",
       "\n",
       "    .dataframe tbody tr th {\n",
       "        vertical-align: top;\n",
       "    }\n",
       "\n",
       "    .dataframe thead th {\n",
       "        text-align: right;\n",
       "    }\n",
       "</style>\n",
       "<table border=\"1\" class=\"dataframe\">\n",
       "  <thead>\n",
       "    <tr style=\"text-align: right;\">\n",
       "      <th></th>\n",
       "      <th>AVG(\"charges in INR\")</th>\n",
       "    </tr>\n",
       "  </thead>\n",
       "  <tbody>\n",
       "    <tr>\n",
       "      <th>0</th>\n",
       "      <td>13406.384516</td>\n",
       "    </tr>\n",
       "  </tbody>\n",
       "</table>\n",
       "</div>"
      ],
      "text/plain": [
       "   AVG(\"charges in INR\")\n",
       "0           13406.384516"
      ]
     },
     "execution_count": 12,
     "metadata": {},
     "output_type": "execute_result"
    }
   ],
   "source": [
    "query4 = '''select AVG(\"charges in INR\") from df_personal as dp inner join df_insurance as di on dp.Policy_number = di.Policy_number where region = 'northeast';'''\n",
    "mysql(query4)"
   ]
  },
  {
   "cell_type": "code",
   "execution_count": null,
   "id": "5e2083dc",
   "metadata": {},
   "outputs": [],
   "source": []
  }
 ],
 "metadata": {
  "kernelspec": {
   "display_name": "Python 3",
   "language": "python",
   "name": "python3"
  },
  "language_info": {
   "codemirror_mode": {
    "name": "ipython",
    "version": 3
   },
   "file_extension": ".py",
   "mimetype": "text/x-python",
   "name": "python",
   "nbconvert_exporter": "python",
   "pygments_lexer": "ipython3",
   "version": "3.8.8"
  }
 },
 "nbformat": 4,
 "nbformat_minor": 5
}
