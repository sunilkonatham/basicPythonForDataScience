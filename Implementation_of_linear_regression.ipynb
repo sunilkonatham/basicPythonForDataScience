{
 "cells": [
  {
   "cell_type": "code",
   "execution_count": 27,
   "id": "375c53b9",
   "metadata": {},
   "outputs": [],
   "source": [
    "#importing necessary libraries\n",
    "import pandas as pd\n",
    "import numpy as np\n",
    "from collections import OrderedDict\n",
    "import seaborn as sns\n",
    "import matplotlib.pyplot as plt\n",
    "import scipy.stats as sc\n",
    "from sklearn.preprocessing import LabelEncoder\n",
    "from sklearn.model_selection import train_test_split\n",
    "from sklearn.linear_model import LinearRegression\n",
    "from sklearn.metrics import r2_score\n",
    "\n",
    "from sklearn.tree import DecisionTreeRegressor\n",
    "from sklearn.metrics import accuracy_score\n",
    "\n",
    "import warnings\n",
    "warnings.filterwarnings('ignore')"
   ]
  },
  {
   "cell_type": "code",
   "execution_count": 2,
   "id": "d90184a7",
   "metadata": {},
   "outputs": [],
   "source": [
    "df = pd.read_excel('Xiaomi India Case.xlsx')"
   ]
  },
  {
   "cell_type": "code",
   "execution_count": 3,
   "id": "a4870f25",
   "metadata": {},
   "outputs": [
    {
     "data": {
      "text/html": [
       "<div>\n",
       "<style scoped>\n",
       "    .dataframe tbody tr th:only-of-type {\n",
       "        vertical-align: middle;\n",
       "    }\n",
       "\n",
       "    .dataframe tbody tr th {\n",
       "        vertical-align: top;\n",
       "    }\n",
       "\n",
       "    .dataframe thead th {\n",
       "        text-align: right;\n",
       "    }\n",
       "</style>\n",
       "<table border=\"1\" class=\"dataframe\">\n",
       "  <thead>\n",
       "    <tr style=\"text-align: right;\">\n",
       "      <th></th>\n",
       "      <th>Customer</th>\n",
       "      <th>Day</th>\n",
       "      <th>Browser</th>\n",
       "      <th>No. of Clicks</th>\n",
       "      <th>Pages Viewed</th>\n",
       "      <th>Time (min)</th>\n",
       "      <th>Amount Spent (Rs.)</th>\n",
       "    </tr>\n",
       "  </thead>\n",
       "  <tbody>\n",
       "    <tr>\n",
       "      <th>0</th>\n",
       "      <td>43200</td>\n",
       "      <td>Wednesday</td>\n",
       "      <td>Chrome</td>\n",
       "      <td>29</td>\n",
       "      <td>4</td>\n",
       "      <td>11.3</td>\n",
       "      <td>6627.0</td>\n",
       "    </tr>\n",
       "    <tr>\n",
       "      <th>1</th>\n",
       "      <td>43192</td>\n",
       "      <td>Wednesday</td>\n",
       "      <td>Chrome</td>\n",
       "      <td>29</td>\n",
       "      <td>4</td>\n",
       "      <td>11.3</td>\n",
       "      <td>6627.0</td>\n",
       "    </tr>\n",
       "    <tr>\n",
       "      <th>2</th>\n",
       "      <td>43184</td>\n",
       "      <td>Wednesday</td>\n",
       "      <td>Chrome</td>\n",
       "      <td>8</td>\n",
       "      <td>5</td>\n",
       "      <td>5.0</td>\n",
       "      <td>3648.0</td>\n",
       "    </tr>\n",
       "    <tr>\n",
       "      <th>3</th>\n",
       "      <td>43173</td>\n",
       "      <td>Wednesday</td>\n",
       "      <td>Firefox</td>\n",
       "      <td>32</td>\n",
       "      <td>3</td>\n",
       "      <td>12.7</td>\n",
       "      <td>7094.0</td>\n",
       "    </tr>\n",
       "    <tr>\n",
       "      <th>4</th>\n",
       "      <td>43167</td>\n",
       "      <td>Wednesday</td>\n",
       "      <td>Chrome</td>\n",
       "      <td>18</td>\n",
       "      <td>2</td>\n",
       "      <td>11.0</td>\n",
       "      <td>4054.0</td>\n",
       "    </tr>\n",
       "  </tbody>\n",
       "</table>\n",
       "</div>"
      ],
      "text/plain": [
       "   Customer        Day  Browser  No. of Clicks  Pages Viewed  Time (min)  \\\n",
       "0     43200  Wednesday   Chrome             29             4        11.3   \n",
       "1     43192  Wednesday   Chrome             29             4        11.3   \n",
       "2     43184  Wednesday   Chrome              8             5         5.0   \n",
       "3     43173  Wednesday  Firefox             32             3        12.7   \n",
       "4     43167  Wednesday   Chrome             18             2        11.0   \n",
       "\n",
       "   Amount Spent (Rs.)  \n",
       "0              6627.0  \n",
       "1              6627.0  \n",
       "2              3648.0  \n",
       "3              7094.0  \n",
       "4              4054.0  "
      ]
     },
     "execution_count": 3,
     "metadata": {},
     "output_type": "execute_result"
    }
   ],
   "source": [
    "df.head()"
   ]
  },
  {
   "cell_type": "code",
   "execution_count": 4,
   "id": "8007465f",
   "metadata": {},
   "outputs": [],
   "source": [
    "df.drop('Customer',axis=1,inplace = True) #Axis=0 is for Rows and axis=1 is for columns"
   ]
  },
  {
   "cell_type": "code",
   "execution_count": 5,
   "id": "ee6154e1",
   "metadata": {},
   "outputs": [
    {
     "data": {
      "text/html": [
       "<div>\n",
       "<style scoped>\n",
       "    .dataframe tbody tr th:only-of-type {\n",
       "        vertical-align: middle;\n",
       "    }\n",
       "\n",
       "    .dataframe tbody tr th {\n",
       "        vertical-align: top;\n",
       "    }\n",
       "\n",
       "    .dataframe thead th {\n",
       "        text-align: right;\n",
       "    }\n",
       "</style>\n",
       "<table border=\"1\" class=\"dataframe\">\n",
       "  <thead>\n",
       "    <tr style=\"text-align: right;\">\n",
       "      <th></th>\n",
       "      <th>Day</th>\n",
       "      <th>Browser</th>\n",
       "      <th>No. of Clicks</th>\n",
       "      <th>Pages Viewed</th>\n",
       "      <th>Time (min)</th>\n",
       "      <th>Amount Spent (Rs.)</th>\n",
       "    </tr>\n",
       "  </thead>\n",
       "  <tbody>\n",
       "    <tr>\n",
       "      <th>0</th>\n",
       "      <td>Wednesday</td>\n",
       "      <td>Chrome</td>\n",
       "      <td>29</td>\n",
       "      <td>4</td>\n",
       "      <td>11.3</td>\n",
       "      <td>6627.0</td>\n",
       "    </tr>\n",
       "    <tr>\n",
       "      <th>1</th>\n",
       "      <td>Wednesday</td>\n",
       "      <td>Chrome</td>\n",
       "      <td>29</td>\n",
       "      <td>4</td>\n",
       "      <td>11.3</td>\n",
       "      <td>6627.0</td>\n",
       "    </tr>\n",
       "    <tr>\n",
       "      <th>2</th>\n",
       "      <td>Wednesday</td>\n",
       "      <td>Chrome</td>\n",
       "      <td>8</td>\n",
       "      <td>5</td>\n",
       "      <td>5.0</td>\n",
       "      <td>3648.0</td>\n",
       "    </tr>\n",
       "    <tr>\n",
       "      <th>3</th>\n",
       "      <td>Wednesday</td>\n",
       "      <td>Firefox</td>\n",
       "      <td>32</td>\n",
       "      <td>3</td>\n",
       "      <td>12.7</td>\n",
       "      <td>7094.0</td>\n",
       "    </tr>\n",
       "    <tr>\n",
       "      <th>4</th>\n",
       "      <td>Wednesday</td>\n",
       "      <td>Chrome</td>\n",
       "      <td>18</td>\n",
       "      <td>2</td>\n",
       "      <td>11.0</td>\n",
       "      <td>4054.0</td>\n",
       "    </tr>\n",
       "  </tbody>\n",
       "</table>\n",
       "</div>"
      ],
      "text/plain": [
       "         Day  Browser  No. of Clicks  Pages Viewed  Time (min)  \\\n",
       "0  Wednesday   Chrome             29             4        11.3   \n",
       "1  Wednesday   Chrome             29             4        11.3   \n",
       "2  Wednesday   Chrome              8             5         5.0   \n",
       "3  Wednesday  Firefox             32             3        12.7   \n",
       "4  Wednesday   Chrome             18             2        11.0   \n",
       "\n",
       "   Amount Spent (Rs.)  \n",
       "0              6627.0  \n",
       "1              6627.0  \n",
       "2              3648.0  \n",
       "3              7094.0  \n",
       "4              4054.0  "
      ]
     },
     "execution_count": 5,
     "metadata": {},
     "output_type": "execute_result"
    }
   ],
   "source": [
    "df.head()"
   ]
  },
  {
   "cell_type": "code",
   "execution_count": 6,
   "id": "7ee34184",
   "metadata": {},
   "outputs": [
    {
     "name": "stdout",
     "output_type": "stream",
     "text": [
      "This Day is a categorical column\n",
      "This Browser is a categorical column\n",
      "This No. of Clicks is a continuous column\n",
      "This Pages Viewed is a continuous column\n",
      "This Time (min) is a continuous column\n",
      "This Amount Spent (Rs.) is a continuous column\n",
      "['No. of Clicks', 'Pages Viewed', 'Time (min)', 'Amount Spent (Rs.)']\n",
      "['Day', 'Browser']\n"
     ]
    }
   ],
   "source": [
    "#Homework: Make  a list of categorical and continuous columns\n",
    "\n",
    "cat =[]\n",
    "con =[]\n",
    "for column in df.columns:\n",
    "    if df[column].dtype != 'object':\n",
    "        print(f'This {column} is a continuous column')\n",
    "        con.append(column)\n",
    "        \n",
    "    else:\n",
    "        cat.append(column)\n",
    "        print(f'This {column} is a categorical column')\n",
    "        \n",
    "print(con)\n",
    "print(cat)"
   ]
  },
  {
   "cell_type": "code",
   "execution_count": 7,
   "id": "3e431480",
   "metadata": {},
   "outputs": [],
   "source": [
    "def custom_summary(df):\n",
    "    result =[]\n",
    "    for col in list(df.columns):\n",
    "        stats = OrderedDict({\"featureName\":col,\n",
    "                            \"count\":df[col].count(),\n",
    "                            \"datatype\":df[col].dtype,\n",
    "                            \"min\":df[col].min(),\n",
    "                            \"Q1\":df[col].quantile(0.25),\n",
    "                            \"Q2\":df[col].quantile(0.5),\n",
    "                            \"Q3\":df[col].quantile(0.75),\n",
    "                            \"Q4\":df[col].quantile(1.0),\n",
    "                            \"mean\":df[col].mean(),\n",
    "                            \"stdv\":df[col].std(),\n",
    "                            \"var\":df[col].var(),\n",
    "                            \"kurt\":df[col].kurt(),\n",
    "                            \"skew\":df[col].skew(),\n",
    "                            \"range\":df[col].min() - df[col].max(),\n",
    "                            \"IQR\": df[col].quantile(0.75) - df[col].quantile(0.25)\n",
    "                            })\n",
    "        if df[col].skew()<-1.0:\n",
    "            label = \"Highly negatively skewed\"\n",
    "        elif -1.0<df[col].skew()<-0.5:\n",
    "            label = \"moderately negatively skewed\"\n",
    "        elif -0.5<df[col].skew()<0.5:\n",
    "            label = \"fairly symmetric\"\n",
    "        elif -0.5<df[col].skew()<0.5:\n",
    "            label = \"moderately positively skewed\"\n",
    "        else:\n",
    "            label = \"Highly positively skewed\"\n",
    "            \n",
    "        stats['skewness comment'] = label;\n",
    "        \n",
    "        #Outliers identification\n",
    "        upper_limit = stats['Q3'] + (1.5*stats['IQR'])\n",
    "        lower_limit = stats['Q1'] - (1.5*stats['IQR'])\n",
    "        if len([x for x in df[col] if x <lower_limit or x>upper_limit ]) > 0:\n",
    "            outliers_label = \"Has outliers\"\n",
    "        else:\n",
    "            outliers_label = \"No outliers\"\n",
    "        \n",
    "        stats['Outlier comment'] = outliers_label\n",
    "        #count =0\n",
    "        #if (x for x in df[col] if x <lower_limit) or (x for x in df[col] if x>upper_limit):\n",
    "        #    count +=1\n",
    "        \n",
    "        stats['number of outliers'] = len([x for x in df[col] if x <lower_limit or x>upper_limit ])\n",
    "        stats['Percentage of outliers'] = stats['number of outliers']*100/stats['count']\n",
    "        \n",
    "        result.append(stats)\n",
    "    resultdf = pd.DataFrame(data=result)\n",
    "    return resultdf\n",
    "    "
   ]
  },
  {
   "cell_type": "code",
   "execution_count": 8,
   "id": "72778571",
   "metadata": {},
   "outputs": [
    {
     "data": {
      "text/html": [
       "<div>\n",
       "<style scoped>\n",
       "    .dataframe tbody tr th:only-of-type {\n",
       "        vertical-align: middle;\n",
       "    }\n",
       "\n",
       "    .dataframe tbody tr th {\n",
       "        vertical-align: top;\n",
       "    }\n",
       "\n",
       "    .dataframe thead th {\n",
       "        text-align: right;\n",
       "    }\n",
       "</style>\n",
       "<table border=\"1\" class=\"dataframe\">\n",
       "  <thead>\n",
       "    <tr style=\"text-align: right;\">\n",
       "      <th></th>\n",
       "      <th>featureName</th>\n",
       "      <th>count</th>\n",
       "      <th>datatype</th>\n",
       "      <th>min</th>\n",
       "      <th>Q1</th>\n",
       "      <th>Q2</th>\n",
       "      <th>Q3</th>\n",
       "      <th>Q4</th>\n",
       "      <th>mean</th>\n",
       "      <th>stdv</th>\n",
       "      <th>var</th>\n",
       "      <th>kurt</th>\n",
       "      <th>skew</th>\n",
       "      <th>range</th>\n",
       "      <th>IQR</th>\n",
       "      <th>skewness comment</th>\n",
       "      <th>Outlier comment</th>\n",
       "      <th>number of outliers</th>\n",
       "      <th>Percentage of outliers</th>\n",
       "    </tr>\n",
       "  </thead>\n",
       "  <tbody>\n",
       "    <tr>\n",
       "      <th>0</th>\n",
       "      <td>No. of Clicks</td>\n",
       "      <td>5184</td>\n",
       "      <td>int64</td>\n",
       "      <td>8.0</td>\n",
       "      <td>15.0</td>\n",
       "      <td>23.5</td>\n",
       "      <td>30.0</td>\n",
       "      <td>32.0</td>\n",
       "      <td>22.000000</td>\n",
       "      <td>8.889052</td>\n",
       "      <td>79.015242</td>\n",
       "      <td>-1.462839</td>\n",
       "      <td>-0.307708</td>\n",
       "      <td>-24.0</td>\n",
       "      <td>15.0</td>\n",
       "      <td>fairly symmetric</td>\n",
       "      <td>No outliers</td>\n",
       "      <td>0</td>\n",
       "      <td>0.0</td>\n",
       "    </tr>\n",
       "    <tr>\n",
       "      <th>1</th>\n",
       "      <td>Pages Viewed</td>\n",
       "      <td>5184</td>\n",
       "      <td>int64</td>\n",
       "      <td>2.0</td>\n",
       "      <td>3.0</td>\n",
       "      <td>4.5</td>\n",
       "      <td>5.0</td>\n",
       "      <td>6.0</td>\n",
       "      <td>4.166667</td>\n",
       "      <td>1.343839</td>\n",
       "      <td>1.805904</td>\n",
       "      <td>-1.151669</td>\n",
       "      <td>-0.305405</td>\n",
       "      <td>-4.0</td>\n",
       "      <td>2.0</td>\n",
       "      <td>fairly symmetric</td>\n",
       "      <td>No outliers</td>\n",
       "      <td>0</td>\n",
       "      <td>0.0</td>\n",
       "    </tr>\n",
       "    <tr>\n",
       "      <th>2</th>\n",
       "      <td>Time (min)</td>\n",
       "      <td>5184</td>\n",
       "      <td>float64</td>\n",
       "      <td>5.0</td>\n",
       "      <td>11.0</td>\n",
       "      <td>12.0</td>\n",
       "      <td>15.1</td>\n",
       "      <td>19.5</td>\n",
       "      <td>12.433333</td>\n",
       "      <td>4.391956</td>\n",
       "      <td>19.289276</td>\n",
       "      <td>-0.488430</td>\n",
       "      <td>-0.085135</td>\n",
       "      <td>-14.5</td>\n",
       "      <td>4.1</td>\n",
       "      <td>fairly symmetric</td>\n",
       "      <td>No outliers</td>\n",
       "      <td>0</td>\n",
       "      <td>0.0</td>\n",
       "    </tr>\n",
       "  </tbody>\n",
       "</table>\n",
       "</div>"
      ],
      "text/plain": [
       "     featureName  count datatype  min    Q1    Q2    Q3    Q4       mean  \\\n",
       "0  No. of Clicks   5184    int64  8.0  15.0  23.5  30.0  32.0  22.000000   \n",
       "1   Pages Viewed   5184    int64  2.0   3.0   4.5   5.0   6.0   4.166667   \n",
       "2     Time (min)   5184  float64  5.0  11.0  12.0  15.1  19.5  12.433333   \n",
       "\n",
       "       stdv        var      kurt      skew  range   IQR  skewness comment  \\\n",
       "0  8.889052  79.015242 -1.462839 -0.307708  -24.0  15.0  fairly symmetric   \n",
       "1  1.343839   1.805904 -1.151669 -0.305405   -4.0   2.0  fairly symmetric   \n",
       "2  4.391956  19.289276 -0.488430 -0.085135  -14.5   4.1  fairly symmetric   \n",
       "\n",
       "  Outlier comment  number of outliers  Percentage of outliers  \n",
       "0     No outliers                   0                     0.0  \n",
       "1     No outliers                   0                     0.0  \n",
       "2     No outliers                   0                     0.0  "
      ]
     },
     "execution_count": 8,
     "metadata": {},
     "output_type": "execute_result"
    }
   ],
   "source": [
    "custom_summary(df[['No. of Clicks', 'Pages Viewed', 'Time (min)']])"
   ]
  },
  {
   "cell_type": "code",
   "execution_count": 9,
   "id": "7d20b50b",
   "metadata": {},
   "outputs": [],
   "source": [
    "def odt_plots(df, col):\n",
    "    fig,(ax1, ax2, ax3) = plt.subplots(1,3,figsize = (16,5))\n",
    "    \n",
    "    kwargs = {'fontsize':15, 'color':'black'}    #key word arguements\n",
    "    \n",
    "    #box plot with outliers\n",
    "    sns.boxplot(df[col],ax=ax1,color = 'b')\n",
    "    ax1.set_title('Box plot for '+col, **kwargs)\n",
    "    ax1.set_xlabel('values', **kwargs)\n",
    "    ax1.set_ylabel('Box distribution', **kwargs)\n",
    "    \n",
    "    #histogram with outliers\n",
    "    sns.distplot(df[col],ax=ax2,color = 'r', fit=sc.norm)\n",
    "    ax2.set_title('Histogram plot for '+col, **kwargs)\n",
    "    ax2.set_xlabel('values', **kwargs)\n",
    "    ax2.set_ylabel('Histrogram', **kwargs)\n",
    "    \n",
    "    #histogram with no outliers\n",
    "    y = df\n",
    "    sns.distplot(y[col], ax = ax3, color = 'y', fit=sc.norm)\n",
    "    plt.show()\n",
    "    "
   ]
  },
  {
   "cell_type": "code",
   "execution_count": 10,
   "id": "39c78d0b",
   "metadata": {},
   "outputs": [
    {
     "data": {
      "image/png": "[encoded data removed]",
      "text/plain": [
       "<Figure size 1152x360 with 3 Axes>"
      ]
     },
     "metadata": {
      "needs_background": "light"
     },
     "output_type": "display_data"
    },
    {
     "data": {
      "image/png": "[encoded data removed]",
      "text/plain": [
       "<Figure size 1152x360 with 3 Axes>"
      ]
     },
     "metadata": {
      "needs_background": "light"
     },
     "output_type": "display_data"
    },
    {
     "data": {
      "image/png": "[encoded data removed]",
      "text/plain": [
       "<Figure size 1152x360 with 3 Axes>"
      ]
     },
     "metadata": {
      "needs_background": "light"
     },
     "output_type": "display_data"
    }
   ],
   "source": [
    "for col in df[['No. of Clicks', 'Pages Viewed', 'Time (min)']]:\n",
    "    odt_plots(df[['No. of Clicks', 'Pages Viewed', 'Time (min)']], col)"
   ]
  },
  {
   "cell_type": "code",
   "execution_count": 11,
   "id": "e39b9f9b",
   "metadata": {},
   "outputs": [],
   "source": [
    "#An object for label encoder\n",
    "le = LabelEncoder()"
   ]
  },
  {
   "cell_type": "code",
   "execution_count": 12,
   "id": "84081e81",
   "metadata": {},
   "outputs": [],
   "source": [
    "df['Day'] = le.fit_transform(df['Day'])\n",
    "df['Browser'] = le.fit_transform(df['Browser'])"
   ]
  },
  {
   "cell_type": "code",
   "execution_count": 13,
   "id": "153aa755",
   "metadata": {},
   "outputs": [
    {
     "data": {
      "text/html": [
       "<div>\n",
       "<style scoped>\n",
       "    .dataframe tbody tr th:only-of-type {\n",
       "        vertical-align: middle;\n",
       "    }\n",
       "\n",
       "    .dataframe tbody tr th {\n",
       "        vertical-align: top;\n",
       "    }\n",
       "\n",
       "    .dataframe thead th {\n",
       "        text-align: right;\n",
       "    }\n",
       "</style>\n",
       "<table border=\"1\" class=\"dataframe\">\n",
       "  <thead>\n",
       "    <tr style=\"text-align: right;\">\n",
       "      <th></th>\n",
       "      <th>Day</th>\n",
       "      <th>Browser</th>\n",
       "      <th>No. of Clicks</th>\n",
       "      <th>Pages Viewed</th>\n",
       "      <th>Time (min)</th>\n",
       "      <th>Amount Spent (Rs.)</th>\n",
       "    </tr>\n",
       "  </thead>\n",
       "  <tbody>\n",
       "    <tr>\n",
       "      <th>0</th>\n",
       "      <td>0</td>\n",
       "      <td>0</td>\n",
       "      <td>29</td>\n",
       "      <td>4</td>\n",
       "      <td>11.3</td>\n",
       "      <td>6627.0</td>\n",
       "    </tr>\n",
       "    <tr>\n",
       "      <th>1</th>\n",
       "      <td>0</td>\n",
       "      <td>0</td>\n",
       "      <td>29</td>\n",
       "      <td>4</td>\n",
       "      <td>11.3</td>\n",
       "      <td>6627.0</td>\n",
       "    </tr>\n",
       "    <tr>\n",
       "      <th>2</th>\n",
       "      <td>0</td>\n",
       "      <td>0</td>\n",
       "      <td>8</td>\n",
       "      <td>5</td>\n",
       "      <td>5.0</td>\n",
       "      <td>3648.0</td>\n",
       "    </tr>\n",
       "    <tr>\n",
       "      <th>3</th>\n",
       "      <td>0</td>\n",
       "      <td>1</td>\n",
       "      <td>32</td>\n",
       "      <td>3</td>\n",
       "      <td>12.7</td>\n",
       "      <td>7094.0</td>\n",
       "    </tr>\n",
       "    <tr>\n",
       "      <th>4</th>\n",
       "      <td>0</td>\n",
       "      <td>0</td>\n",
       "      <td>18</td>\n",
       "      <td>2</td>\n",
       "      <td>11.0</td>\n",
       "      <td>4054.0</td>\n",
       "    </tr>\n",
       "  </tbody>\n",
       "</table>\n",
       "</div>"
      ],
      "text/plain": [
       "   Day  Browser  No. of Clicks  Pages Viewed  Time (min)  Amount Spent (Rs.)\n",
       "0    0        0             29             4        11.3              6627.0\n",
       "1    0        0             29             4        11.3              6627.0\n",
       "2    0        0              8             5         5.0              3648.0\n",
       "3    0        1             32             3        12.7              7094.0\n",
       "4    0        0             18             2        11.0              4054.0"
      ]
     },
     "execution_count": 13,
     "metadata": {},
     "output_type": "execute_result"
    }
   ],
   "source": [
    "df.head()"
   ]
  },
  {
   "cell_type": "code",
   "execution_count": 14,
   "id": "dcd2a8c1",
   "metadata": {},
   "outputs": [],
   "source": [
    "x = df.drop('Amount Spent (Rs.)', axis=1)"
   ]
  },
  {
   "cell_type": "code",
   "execution_count": 15,
   "id": "c80b88e4",
   "metadata": {},
   "outputs": [],
   "source": [
    "y = df[['Amount Spent (Rs.)']]"
   ]
  },
  {
   "cell_type": "code",
   "execution_count": 16,
   "id": "094d9a4f",
   "metadata": {},
   "outputs": [],
   "source": [
    "#Performing train - test split\n",
    "x_train,x_test,y_train,y_test = train_test_split(x,y,test_size=0.3,random_state=50)\n"
   ]
  },
  {
   "cell_type": "code",
   "execution_count": 17,
   "id": "d58bddc9",
   "metadata": {},
   "outputs": [
    {
     "data": {
      "text/html": [
       "<div>\n",
       "<style scoped>\n",
       "    .dataframe tbody tr th:only-of-type {\n",
       "        vertical-align: middle;\n",
       "    }\n",
       "\n",
       "    .dataframe tbody tr th {\n",
       "        vertical-align: top;\n",
       "    }\n",
       "\n",
       "    .dataframe thead th {\n",
       "        text-align: right;\n",
       "    }\n",
       "</style>\n",
       "<table border=\"1\" class=\"dataframe\">\n",
       "  <thead>\n",
       "    <tr style=\"text-align: right;\">\n",
       "      <th></th>\n",
       "      <th>Amount Spent (Rs.)</th>\n",
       "    </tr>\n",
       "  </thead>\n",
       "  <tbody>\n",
       "    <tr>\n",
       "      <th>1332</th>\n",
       "      <td>3648.0</td>\n",
       "    </tr>\n",
       "    <tr>\n",
       "      <th>4777</th>\n",
       "      <td>3648.0</td>\n",
       "    </tr>\n",
       "    <tr>\n",
       "      <th>1768</th>\n",
       "      <td>6627.0</td>\n",
       "    </tr>\n",
       "    <tr>\n",
       "      <th>3374</th>\n",
       "      <td>3648.0</td>\n",
       "    </tr>\n",
       "    <tr>\n",
       "      <th>2467</th>\n",
       "      <td>3269.0</td>\n",
       "    </tr>\n",
       "  </tbody>\n",
       "</table>\n",
       "</div>"
      ],
      "text/plain": [
       "      Amount Spent (Rs.)\n",
       "1332              3648.0\n",
       "4777              3648.0\n",
       "1768              6627.0\n",
       "3374              3648.0\n",
       "2467              3269.0"
      ]
     },
     "execution_count": 17,
     "metadata": {},
     "output_type": "execute_result"
    }
   ],
   "source": [
    "y_train.head()"
   ]
  },
  {
   "cell_type": "code",
   "execution_count": 18,
   "id": "bc5f16d8",
   "metadata": {},
   "outputs": [
    {
     "data": {
      "text/plain": [
       "((3628, 5), (1556, 5), (3628, 1), (1556, 1))"
      ]
     },
     "execution_count": 18,
     "metadata": {},
     "output_type": "execute_result"
    }
   ],
   "source": [
    "x_train.shape, x_test.shape, y_train.shape, y_test.shape\n"
   ]
  },
  {
   "cell_type": "markdown",
   "id": "4df3f412",
   "metadata": {},
   "source": [
    "# Model Building"
   ]
  },
  {
   "cell_type": "code",
   "execution_count": 19,
   "id": "4a90a45b",
   "metadata": {},
   "outputs": [],
   "source": [
    "lr = LinearRegression()"
   ]
  },
  {
   "cell_type": "code",
   "execution_count": 20,
   "id": "e594ef5e",
   "metadata": {},
   "outputs": [
    {
     "data": {
      "text/plain": [
       "LinearRegression()"
      ]
     },
     "execution_count": 20,
     "metadata": {},
     "output_type": "execute_result"
    }
   ],
   "source": [
    "lr.fit(x_train, y_train)"
   ]
  },
  {
   "cell_type": "markdown",
   "id": "54cc6d26",
   "metadata": {},
   "source": [
    "## Evaluating model performance"
   ]
  },
  {
   "cell_type": "code",
   "execution_count": 21,
   "id": "2327af32",
   "metadata": {},
   "outputs": [],
   "source": [
    "lr_pred = lr.predict(x_test)"
   ]
  },
  {
   "cell_type": "code",
   "execution_count": 22,
   "id": "9d376763",
   "metadata": {},
   "outputs": [
    {
     "data": {
      "text/plain": [
       "0.9661514898729584"
      ]
     },
     "execution_count": 22,
     "metadata": {},
     "output_type": "execute_result"
    }
   ],
   "source": [
    "r2_score(y_test, lr_pred)"
   ]
  },
  {
   "cell_type": "code",
   "execution_count": null,
   "id": "052f728f",
   "metadata": {},
   "outputs": [],
   "source": []
  },
  {
   "cell_type": "code",
   "execution_count": 23,
   "id": "37276a52",
   "metadata": {},
   "outputs": [],
   "source": [
    "dt = DecisionTreeRegressor()"
   ]
  },
  {
   "cell_type": "code",
   "execution_count": 24,
   "id": "257f82e1",
   "metadata": {},
   "outputs": [
    {
     "data": {
      "text/plain": [
       "DecisionTreeRegressor()"
      ]
     },
     "execution_count": 24,
     "metadata": {},
     "output_type": "execute_result"
    }
   ],
   "source": [
    "dt.fit(x_train, y_train)"
   ]
  },
  {
   "cell_type": "code",
   "execution_count": 25,
   "id": "a9a2f763",
   "metadata": {},
   "outputs": [],
   "source": [
    "dt_pred_train = dt.predict(x_train)\n",
    "dt_pred_test = dt.predict(x_test)"
   ]
  },
  {
   "cell_type": "code",
   "execution_count": 28,
   "id": "15bb87b8",
   "metadata": {},
   "outputs": [
    {
     "name": "stdout",
     "output_type": "stream",
     "text": [
      "Accuracy of training data is  1.0\n",
      "Accuracy of testing data is  1.0\n"
     ]
    }
   ],
   "source": [
    "print('Accuracy of training data is ', r2_score(y_train, dt_pred_train))\n",
    "print('Accuracy of testing data is ', r2_score(y_test, dt_pred_test))"
   ]
  },
  {
   "cell_type": "code",
   "execution_count": null,
   "id": "a6209ec0",
   "metadata": {},
   "outputs": [],
   "source": []
  }
 ],
 "metadata": {
  "kernelspec": {
   "display_name": "Python 3",
   "language": "python",
   "name": "python3"
  },
  "language_info": {
   "codemirror_mode": {
    "name": "ipython",
    "version": 3
   },
   "file_extension": ".py",
   "mimetype": "text/x-python",
   "name": "python",
   "nbconvert_exporter": "python",
   "pygments_lexer": "ipython3",
   "version": "3.8.8"
  }
 },
 "nbformat": 4,
 "nbformat_minor": 5
}
