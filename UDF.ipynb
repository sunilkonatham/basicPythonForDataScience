{
 "cells": [
  {
   "cell_type": "code",
   "execution_count": 1,
   "id": "df23c4cd",
   "metadata": {},
   "outputs": [],
   "source": [
    "import math"
   ]
  },
  {
   "cell_type": "code",
   "execution_count": 2,
   "id": "5ff74979",
   "metadata": {
    "collapsed": true
   },
   "outputs": [
    {
     "data": {
      "text/plain": [
       "['__doc__',\n",
       " '__loader__',\n",
       " '__name__',\n",
       " '__package__',\n",
       " '__spec__',\n",
       " 'acos',\n",
       " 'acosh',\n",
       " 'asin',\n",
       " 'asinh',\n",
       " 'atan',\n",
       " 'atan2',\n",
       " 'atanh',\n",
       " 'ceil',\n",
       " 'comb',\n",
       " 'copysign',\n",
       " 'cos',\n",
       " 'cosh',\n",
       " 'degrees',\n",
       " 'dist',\n",
       " 'e',\n",
       " 'erf',\n",
       " 'erfc',\n",
       " 'exp',\n",
       " 'expm1',\n",
       " 'fabs',\n",
       " 'factorial',\n",
       " 'floor',\n",
       " 'fmod',\n",
       " 'frexp',\n",
       " 'fsum',\n",
       " 'gamma',\n",
       " 'gcd',\n",
       " 'hypot',\n",
       " 'inf',\n",
       " 'isclose',\n",
       " 'isfinite',\n",
       " 'isinf',\n",
       " 'isnan',\n",
       " 'isqrt',\n",
       " 'ldexp',\n",
       " 'lgamma',\n",
       " 'log',\n",
       " 'log10',\n",
       " 'log1p',\n",
       " 'log2',\n",
       " 'modf',\n",
       " 'nan',\n",
       " 'perm',\n",
       " 'pi',\n",
       " 'pow',\n",
       " 'prod',\n",
       " 'radians',\n",
       " 'remainder',\n",
       " 'sin',\n",
       " 'sinh',\n",
       " 'sqrt',\n",
       " 'tan',\n",
       " 'tanh',\n",
       " 'tau',\n",
       " 'trunc']"
      ]
     },
     "execution_count": 2,
     "metadata": {},
     "output_type": "execute_result"
    }
   ],
   "source": [
    "dir(math)"
   ]
  },
  {
   "cell_type": "markdown",
   "id": "1a9c634d",
   "metadata": {},
   "source": [
    "# UDF"
   ]
  },
  {
   "cell_type": "code",
   "execution_count": 11,
   "id": "8cb9a959",
   "metadata": {},
   "outputs": [],
   "source": [
    "def sum_number(a,b): # Function definition\n",
    "    print(f'sum of {a} and {b} is {a+b}') #Function body\n",
    "    "
   ]
  },
  {
   "cell_type": "code",
   "execution_count": 12,
   "id": "653dc6ff",
   "metadata": {},
   "outputs": [
    {
     "name": "stdout",
     "output_type": "stream",
     "text": [
      "sum of 2 and 5 is 7\n"
     ]
    }
   ],
   "source": [
    "sum_number(2,5)"
   ]
  },
  {
   "cell_type": "code",
   "execution_count": 21,
   "id": "d3a24460",
   "metadata": {},
   "outputs": [],
   "source": [
    "def isEven(a):\n",
    "    if(a % 2 == 0):\n",
    "        return True;\n",
    "    else:\n",
    "        return False;"
   ]
  },
  {
   "cell_type": "code",
   "execution_count": 22,
   "id": "d83e7016",
   "metadata": {},
   "outputs": [
    {
     "name": "stdout",
     "output_type": "stream",
     "text": [
      "Enter the number: 31\n",
      "Entered number is odd\n"
     ]
    }
   ],
   "source": [
    "a = int(input('Enter the number: '));\n",
    "if(isEven(a)):\n",
    "    print('Entered number is even');\n",
    "else:\n",
    "    print('Entered number is odd');"
   ]
  },
  {
   "cell_type": "code",
   "execution_count": 23,
   "id": "b36ce15b",
   "metadata": {},
   "outputs": [],
   "source": [
    "def sum(x):\n",
    "    sum =0;\n",
    "    for i in x:\n",
    "        sum +=i;\n",
    "    print(f'sum of all elements in the list is: {sum}');"
   ]
  },
  {
   "cell_type": "code",
   "execution_count": 24,
   "id": "f5d3e520",
   "metadata": {},
   "outputs": [
    {
     "name": "stdout",
     "output_type": "stream",
     "text": [
      "sum of all elements in the list is: 55\n"
     ]
    }
   ],
   "source": [
    "L1 = [1,2,3,4,5,6,7,8,9,10];\n",
    "sum(L1);"
   ]
  },
  {
   "cell_type": "code",
   "execution_count": 25,
   "id": "d38dc3b4",
   "metadata": {},
   "outputs": [],
   "source": [
    "def min_list(x):\n",
    "    temp=x[0];\n",
    "    for i in x:\n",
    "        if(i<temp):\n",
    "            temp = i;\n",
    "    print(f'Minimum value in the list is: {temp}');"
   ]
  },
  {
   "cell_type": "code",
   "execution_count": 34,
   "id": "9d0aa1eb",
   "metadata": {},
   "outputs": [
    {
     "name": "stdout",
     "output_type": "stream",
     "text": [
      "Minimum value in the list is: 1\n"
     ]
    }
   ],
   "source": [
    "min_list(L1)"
   ]
  },
  {
   "cell_type": "code",
   "execution_count": 44,
   "id": "1cc75bff",
   "metadata": {},
   "outputs": [],
   "source": [
    "def distance(p1,p2):\n",
    "    print(math.sqrt((p1[0]-p2[0])**2 + (p1[1]-p2[1])**2));"
   ]
  },
  {
   "cell_type": "code",
   "execution_count": 45,
   "id": "2714ec88",
   "metadata": {},
   "outputs": [
    {
     "name": "stdout",
     "output_type": "stream",
     "text": [
      "5.0\n"
     ]
    }
   ],
   "source": [
    "x = [1,2];\n",
    "y = [4,6];\n",
    "distance(x,y);"
   ]
  },
  {
   "cell_type": "markdown",
   "id": "396bb7f2",
   "metadata": {},
   "source": [
    "# Variable dimensions"
   ]
  },
  {
   "cell_type": "code",
   "execution_count": null,
   "id": "58577e17",
   "metadata": {},
   "outputs": [],
   "source": []
  },
  {
   "cell_type": "code",
   "execution_count": null,
   "id": "2bf820ab",
   "metadata": {},
   "outputs": [],
   "source": []
  },
  {
   "cell_type": "code",
   "execution_count": null,
   "id": "d6584836",
   "metadata": {},
   "outputs": [],
   "source": []
  }
 ],
 "metadata": {
  "kernelspec": {
   "display_name": "Python 3",
   "language": "python",
   "name": "python3"
  },
  "language_info": {
   "codemirror_mode": {
    "name": "ipython",
    "version": 3
   },
   "file_extension": ".py",
   "mimetype": "text/x-python",
   "name": "python",
   "nbconvert_exporter": "python",
   "pygments_lexer": "ipython3",
   "version": "3.8.8"
  }
 },
 "nbformat": 4,
 "nbformat_minor": 5
}
