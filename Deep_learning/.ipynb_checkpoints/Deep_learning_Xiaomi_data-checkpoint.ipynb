{
 "cells": [
  {
   "cell_type": "code",
   "execution_count": 1,
   "id": "0b0f1155",
   "metadata": {},
   "outputs": [],
   "source": [
    "import pandas as pd\n",
    "import numpy as np\n",
    "import tensorflow as tf\n",
    "\n",
    "from sklearn.preprocessing import LabelEncoder\n",
    "from sklearn.model_selection import train_test_split"
   ]
  },
  {
   "cell_type": "code",
   "execution_count": 2,
   "id": "ed988a30",
   "metadata": {},
   "outputs": [],
   "source": [
    "df = pd.read_excel('Xiaomi India Case.xlsx')"
   ]
  },
  {
   "cell_type": "code",
   "execution_count": 3,
   "id": "43759f75",
   "metadata": {},
   "outputs": [],
   "source": [
    "df.drop('Customer', axis =1, inplace=True)"
   ]
  },
  {
   "cell_type": "code",
   "execution_count": 4,
   "id": "38ebf8f3",
   "metadata": {},
   "outputs": [
    {
     "data": {
      "text/html": [
       "<div>\n",
       "<style scoped>\n",
       "    .dataframe tbody tr th:only-of-type {\n",
       "        vertical-align: middle;\n",
       "    }\n",
       "\n",
       "    .dataframe tbody tr th {\n",
       "        vertical-align: top;\n",
       "    }\n",
       "\n",
       "    .dataframe thead th {\n",
       "        text-align: right;\n",
       "    }\n",
       "</style>\n",
       "<table border=\"1\" class=\"dataframe\">\n",
       "  <thead>\n",
       "    <tr style=\"text-align: right;\">\n",
       "      <th></th>\n",
       "      <th>Day</th>\n",
       "      <th>Browser</th>\n",
       "      <th>No. of Clicks</th>\n",
       "      <th>Pages Viewed</th>\n",
       "      <th>Time (min)</th>\n",
       "      <th>Amount Spent (Rs.)</th>\n",
       "    </tr>\n",
       "  </thead>\n",
       "  <tbody>\n",
       "    <tr>\n",
       "      <th>0</th>\n",
       "      <td>Wednesday</td>\n",
       "      <td>Chrome</td>\n",
       "      <td>29</td>\n",
       "      <td>4</td>\n",
       "      <td>11.3</td>\n",
       "      <td>6627.0</td>\n",
       "    </tr>\n",
       "    <tr>\n",
       "      <th>1</th>\n",
       "      <td>Wednesday</td>\n",
       "      <td>Chrome</td>\n",
       "      <td>29</td>\n",
       "      <td>4</td>\n",
       "      <td>11.3</td>\n",
       "      <td>6627.0</td>\n",
       "    </tr>\n",
       "    <tr>\n",
       "      <th>2</th>\n",
       "      <td>Wednesday</td>\n",
       "      <td>Chrome</td>\n",
       "      <td>8</td>\n",
       "      <td>5</td>\n",
       "      <td>5.0</td>\n",
       "      <td>3648.0</td>\n",
       "    </tr>\n",
       "    <tr>\n",
       "      <th>3</th>\n",
       "      <td>Wednesday</td>\n",
       "      <td>Firefox</td>\n",
       "      <td>32</td>\n",
       "      <td>3</td>\n",
       "      <td>12.7</td>\n",
       "      <td>7094.0</td>\n",
       "    </tr>\n",
       "    <tr>\n",
       "      <th>4</th>\n",
       "      <td>Wednesday</td>\n",
       "      <td>Chrome</td>\n",
       "      <td>18</td>\n",
       "      <td>2</td>\n",
       "      <td>11.0</td>\n",
       "      <td>4054.0</td>\n",
       "    </tr>\n",
       "  </tbody>\n",
       "</table>\n",
       "</div>"
      ],
      "text/plain": [
       "         Day  Browser  No. of Clicks  Pages Viewed  Time (min)  \\\n",
       "0  Wednesday   Chrome             29             4        11.3   \n",
       "1  Wednesday   Chrome             29             4        11.3   \n",
       "2  Wednesday   Chrome              8             5         5.0   \n",
       "3  Wednesday  Firefox             32             3        12.7   \n",
       "4  Wednesday   Chrome             18             2        11.0   \n",
       "\n",
       "   Amount Spent (Rs.)  \n",
       "0              6627.0  \n",
       "1              6627.0  \n",
       "2              3648.0  \n",
       "3              7094.0  \n",
       "4              4054.0  "
      ]
     },
     "execution_count": 4,
     "metadata": {},
     "output_type": "execute_result"
    }
   ],
   "source": [
    "df.head()"
   ]
  },
  {
   "cell_type": "code",
   "execution_count": 5,
   "id": "a95453b4",
   "metadata": {},
   "outputs": [],
   "source": [
    "le = LabelEncoder()"
   ]
  },
  {
   "cell_type": "code",
   "execution_count": 6,
   "id": "8b7be6b9",
   "metadata": {},
   "outputs": [],
   "source": [
    "for col in df.columns:\n",
    "    if (df[col].dtype == object):\n",
    "        df[col] = le.fit_transform(df[col])"
   ]
  },
  {
   "cell_type": "code",
   "execution_count": 7,
   "id": "b5945c2b",
   "metadata": {},
   "outputs": [
    {
     "data": {
      "text/html": [
       "<div>\n",
       "<style scoped>\n",
       "    .dataframe tbody tr th:only-of-type {\n",
       "        vertical-align: middle;\n",
       "    }\n",
       "\n",
       "    .dataframe tbody tr th {\n",
       "        vertical-align: top;\n",
       "    }\n",
       "\n",
       "    .dataframe thead th {\n",
       "        text-align: right;\n",
       "    }\n",
       "</style>\n",
       "<table border=\"1\" class=\"dataframe\">\n",
       "  <thead>\n",
       "    <tr style=\"text-align: right;\">\n",
       "      <th></th>\n",
       "      <th>Day</th>\n",
       "      <th>Browser</th>\n",
       "      <th>No. of Clicks</th>\n",
       "      <th>Pages Viewed</th>\n",
       "      <th>Time (min)</th>\n",
       "      <th>Amount Spent (Rs.)</th>\n",
       "    </tr>\n",
       "  </thead>\n",
       "  <tbody>\n",
       "    <tr>\n",
       "      <th>0</th>\n",
       "      <td>0</td>\n",
       "      <td>0</td>\n",
       "      <td>29</td>\n",
       "      <td>4</td>\n",
       "      <td>11.3</td>\n",
       "      <td>6627.0</td>\n",
       "    </tr>\n",
       "    <tr>\n",
       "      <th>1</th>\n",
       "      <td>0</td>\n",
       "      <td>0</td>\n",
       "      <td>29</td>\n",
       "      <td>4</td>\n",
       "      <td>11.3</td>\n",
       "      <td>6627.0</td>\n",
       "    </tr>\n",
       "    <tr>\n",
       "      <th>2</th>\n",
       "      <td>0</td>\n",
       "      <td>0</td>\n",
       "      <td>8</td>\n",
       "      <td>5</td>\n",
       "      <td>5.0</td>\n",
       "      <td>3648.0</td>\n",
       "    </tr>\n",
       "    <tr>\n",
       "      <th>3</th>\n",
       "      <td>0</td>\n",
       "      <td>1</td>\n",
       "      <td>32</td>\n",
       "      <td>3</td>\n",
       "      <td>12.7</td>\n",
       "      <td>7094.0</td>\n",
       "    </tr>\n",
       "    <tr>\n",
       "      <th>4</th>\n",
       "      <td>0</td>\n",
       "      <td>0</td>\n",
       "      <td>18</td>\n",
       "      <td>2</td>\n",
       "      <td>11.0</td>\n",
       "      <td>4054.0</td>\n",
       "    </tr>\n",
       "  </tbody>\n",
       "</table>\n",
       "</div>"
      ],
      "text/plain": [
       "   Day  Browser  No. of Clicks  Pages Viewed  Time (min)  Amount Spent (Rs.)\n",
       "0    0        0             29             4        11.3              6627.0\n",
       "1    0        0             29             4        11.3              6627.0\n",
       "2    0        0              8             5         5.0              3648.0\n",
       "3    0        1             32             3        12.7              7094.0\n",
       "4    0        0             18             2        11.0              4054.0"
      ]
     },
     "execution_count": 7,
     "metadata": {},
     "output_type": "execute_result"
    }
   ],
   "source": [
    "df.head()"
   ]
  },
  {
   "cell_type": "code",
   "execution_count": 8,
   "id": "9d3fa69c",
   "metadata": {},
   "outputs": [],
   "source": [
    "#!pip install tensorflow"
   ]
  },
  {
   "cell_type": "code",
   "execution_count": null,
   "id": "11e27ba4",
   "metadata": {},
   "outputs": [],
   "source": []
  },
  {
   "cell_type": "code",
   "execution_count": 9,
   "id": "c16afbcf",
   "metadata": {},
   "outputs": [],
   "source": [
    "x = df.drop('Amount Spent (Rs.)', axis=1)"
   ]
  },
  {
   "cell_type": "code",
   "execution_count": 10,
   "id": "2cbe5cbb",
   "metadata": {},
   "outputs": [],
   "source": [
    " y =df[['Amount Spent (Rs.)']]"
   ]
  },
  {
   "cell_type": "code",
   "execution_count": 11,
   "id": "7d5818cb",
   "metadata": {},
   "outputs": [],
   "source": [
    "x_train, x_test, y_train, y_test = train_test_split(x,y,test_size=0.2, random_state=50)"
   ]
  },
  {
   "cell_type": "markdown",
   "id": "7cebe744",
   "metadata": {},
   "source": [
    "#Building the ANN architecture"
   ]
  },
  {
   "cell_type": "code",
   "execution_count": 12,
   "id": "5f0b4608",
   "metadata": {},
   "outputs": [],
   "source": [
    "from tensorflow.keras.models import Sequential\n",
    "from tensorflow.keras.layers import Dense"
   ]
  },
  {
   "cell_type": "code",
   "execution_count": 13,
   "id": "c84b3ce8",
   "metadata": {},
   "outputs": [],
   "source": [
    "model = Sequential([Dense(10, activation = 'tanh', input_shape =(5,)), \n",
    "                    Dense(15, activation = 'relu'),\n",
    "                    Dense(1, activation = 'tanh')])"
   ]
  },
  {
   "cell_type": "code",
   "execution_count": 14,
   "id": "92545471",
   "metadata": {},
   "outputs": [
    {
     "name": "stdout",
     "output_type": "stream",
     "text": [
      "Model: \"sequential\"\n",
      "_________________________________________________________________\n",
      " Layer (type)                Output Shape              Param #   \n",
      "=================================================================\n",
      " dense (Dense)               (None, 10)                60        \n",
      "                                                                 \n",
      " dense_1 (Dense)             (None, 15)                165       \n",
      "                                                                 \n",
      " dense_2 (Dense)             (None, 1)                 16        \n",
      "                                                                 \n",
      "=================================================================\n",
      "Total params: 241\n",
      "Trainable params: 241\n",
      "Non-trainable params: 0\n",
      "_________________________________________________________________\n"
     ]
    }
   ],
   "source": [
    "model.summary()"
   ]
  },
  {
   "cell_type": "code",
   "execution_count": 15,
   "id": "f8905656",
   "metadata": {},
   "outputs": [],
   "source": [
    "model.compile(optimizer = 'Adam', loss='mean_squared_error', metrics=['mae'])"
   ]
  },
  {
   "cell_type": "code",
   "execution_count": 16,
   "id": "097e2af0",
   "metadata": {},
   "outputs": [
    {
     "name": "stdout",
     "output_type": "stream",
     "text": [
      "Epoch 1/10\n",
      "83/83 [==============================] - 1s 7ms/step - loss: 37575220.0000 - mae: 5709.8271 - val_loss: 36933628.0000 - val_mae: 5642.1914\n",
      "Epoch 2/10\n",
      "83/83 [==============================] - 0s 3ms/step - loss: 37571924.0000 - mae: 5709.5103 - val_loss: 36932900.0000 - val_mae: 5642.1138\n",
      "Epoch 3/10\n",
      "83/83 [==============================] - 0s 3ms/step - loss: 37571608.0000 - mae: 5709.4790 - val_loss: 36932856.0000 - val_mae: 5642.1104\n",
      "Epoch 4/10\n",
      "83/83 [==============================] - 0s 3ms/step - loss: 37571588.0000 - mae: 5709.4780 - val_loss: 36932852.0000 - val_mae: 5642.1099\n",
      "Epoch 5/10\n",
      "83/83 [==============================] - 0s 3ms/step - loss: 37571588.0000 - mae: 5709.4756 - val_loss: 36932852.0000 - val_mae: 5642.1099\n",
      "Epoch 6/10\n",
      "83/83 [==============================] - 0s 3ms/step - loss: 37571580.0000 - mae: 5709.4756 - val_loss: 36932852.0000 - val_mae: 5642.1099\n",
      "Epoch 7/10\n",
      "83/83 [==============================] - 0s 3ms/step - loss: 37571584.0000 - mae: 5709.4756 - val_loss: 36932852.0000 - val_mae: 5642.1099\n",
      "Epoch 8/10\n",
      "83/83 [==============================] - 0s 3ms/step - loss: 37571580.0000 - mae: 5709.4756 - val_loss: 36932852.0000 - val_mae: 5642.1099\n",
      "Epoch 9/10\n",
      "83/83 [==============================] - 0s 3ms/step - loss: 37571588.0000 - mae: 5709.4736 - val_loss: 36932852.0000 - val_mae: 5642.1099\n",
      "Epoch 10/10\n",
      "83/83 [==============================] - 0s 3ms/step - loss: 37571584.0000 - mae: 5709.4756 - val_loss: 36932852.0000 - val_mae: 5642.1099\n"
     ]
    }
   ],
   "source": [
    "history = model.fit(x_train, y_train, epochs=10, batch_size=50, validation_data=(x_test, y_test))"
   ]
  },
  {
   "cell_type": "code",
   "execution_count": 17,
   "id": "2b5d24aa",
   "metadata": {},
   "outputs": [],
   "source": [
    "import matplotlib.pyplot as plt"
   ]
  },
  {
   "cell_type": "code",
   "execution_count": 18,
   "id": "84e2c818",
   "metadata": {},
   "outputs": [
    {
     "data": {
      "text/plain": [
       "<matplotlib.legend.Legend at 0x1ba20a2b520>"
      ]
     },
     "execution_count": 18,
     "metadata": {},
     "output_type": "execute_result"
    },
    {
     "data": {
      "image/png": "[encoded data removed]",
      "text/plain": [
       "<Figure size 432x288 with 1 Axes>"
      ]
     },
     "metadata": {
      "needs_background": "light"
     },
     "output_type": "display_data"
    }
   ],
   "source": [
    "plt.plot(history.history['loss'])\n",
    "plt.plot(history.history['val_loss'])\n",
    "plt.xlabel('epochs')\n",
    "plt.ylabel('loss')\n",
    "plt.title('loss plot')\n",
    "plt.legend(['training', 'testing'])"
   ]
  },
  {
   "cell_type": "code",
   "execution_count": 19,
   "id": "0b9f4370",
   "metadata": {},
   "outputs": [
    {
     "data": {
      "text/plain": [
       "<matplotlib.legend.Legend at 0x1ba210fc2b0>"
      ]
     },
     "execution_count": 19,
     "metadata": {},
     "output_type": "execute_result"
    },
    {
     "data": {
      "image/png": "[encoded data removed]",
      "text/plain": [
       "<Figure size 432x288 with 1 Axes>"
      ]
     },
     "metadata": {
      "needs_background": "light"
     },
     "output_type": "display_data"
    }
   ],
   "source": [
    "plt.plot(history.history['mae'])\n",
    "plt.plot(history.history['val_mae'])\n",
    "plt.xlabel('epochs')\n",
    "plt.ylabel('mae')\n",
    "plt.title('mae plot')\n",
    "plt.legend(['training', 'testing'])"
   ]
  },
  {
   "cell_type": "code",
   "execution_count": null,
   "id": "e8a778e7",
   "metadata": {},
   "outputs": [],
   "source": []
  },
  {
   "cell_type": "code",
   "execution_count": null,
   "id": "9d66146b",
   "metadata": {},
   "outputs": [],
   "source": []
  }
 ],
 "metadata": {
  "kernelspec": {
   "display_name": "Python 3",
   "language": "python",
   "name": "python3"
  },
  "language_info": {
   "codemirror_mode": {
    "name": "ipython",
    "version": 3
   },
   "file_extension": ".py",
   "mimetype": "text/x-python",
   "name": "python",
   "nbconvert_exporter": "python",
   "pygments_lexer": "ipython3",
   "version": "3.8.8"
  }
 },
 "nbformat": 4,
 "nbformat_minor": 5
}
