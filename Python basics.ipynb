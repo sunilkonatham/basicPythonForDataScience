{
 "cells": [
  {
   "cell_type": "code",
   "execution_count": 25,
   "id": "633dab8d",
   "metadata": {},
   "outputs": [
    {
     "name": "stdout",
     "output_type": "stream",
     "text": [
      "hello world..!\n"
     ]
    }
   ],
   "source": [
    "print('hello world..!')"
   ]
  },
  {
   "cell_type": "code",
   "execution_count": null,
   "id": "13a0ea05",
   "metadata": {},
   "outputs": [],
   "source": []
  },
  {
   "cell_type": "markdown",
   "id": "c7ea01ce",
   "metadata": {},
   "source": [
    "# Welcome to Python3\n",
    "## Welcome to Python3\n",
    "### Welcome to Python3"
   ]
  },
  {
   "cell_type": "code",
   "execution_count": null,
   "id": "6b62afa5",
   "metadata": {},
   "outputs": [],
   "source": []
  },
  {
   "cell_type": "code",
   "execution_count": 26,
   "id": "0cc03679",
   "metadata": {},
   "outputs": [
    {
     "name": "stdout",
     "output_type": "stream",
     "text": [
      "3\n",
      "1\n"
     ]
    }
   ],
   "source": [
    "print(11//3) #FLoor division\n",
    "print(10%3)"
   ]
  },
  {
   "cell_type": "code",
   "execution_count": 27,
   "id": "5308058e",
   "metadata": {},
   "outputs": [
    {
     "name": "stdout",
     "output_type": "stream",
     "text": [
      "[[ 26  44]\n",
      " [ 46  84]\n",
      " [ 61 103]]\n"
     ]
    }
   ],
   "source": [
    "import numpy as np\n",
    "a = np.array([[1, 2, 3],[3, 4, 5],[2, 5, 7]])\n",
    "b = np.array([[1,5],[2,6],[7,9]])\n",
    "print(np.matmul(a,b))"
   ]
  },
  {
   "cell_type": "markdown",
   "id": "cf91317c",
   "metadata": {},
   "source": [
    "# Most frequently used data types\n",
    "1. Interger\n",
    "2. float/ double\n",
    "3. String\n",
    "4. Boolean"
   ]
  },
  {
   "cell_type": "code",
   "execution_count": 39,
   "id": "48a744fa",
   "metadata": {},
   "outputs": [],
   "source": [
    "# Control structure\n",
    "#If, else\n",
    "\n"
   ]
  },
  {
   "cell_type": "code",
   "execution_count": 47,
   "id": "06f1b553",
   "metadata": {},
   "outputs": [
    {
     "name": "stdout",
     "output_type": "stream",
     "text": [
      "15\n"
     ]
    }
   ],
   "source": [
    "a=15;\n",
    "b=10;\n",
    "c=15;\n",
    "if (a>=b):\n",
    "    if (a>=c):\n",
    "        print(a);\n",
    "    elif (c>=a):\n",
    "        print(c);\n",
    "elif (b>=c):\n",
    "    print(b);\n",
    "else:\n",
    "    print(c);"
   ]
  },
  {
   "cell_type": "code",
   "execution_count": 1,
   "id": "c6c82aad",
   "metadata": {},
   "outputs": [
    {
     "name": "stdout",
     "output_type": "stream",
     "text": [
      "all are equal\n"
     ]
    }
   ],
   "source": [
    "a=25;\n",
    "b=25;\n",
    "c=5;\n",
    "if (a>b):\n",
    "    if (a>c):\n",
    "        print('a is greatest');\n",
    "    elif (c>a):\n",
    "        print('c is greatest');\n",
    "    elif (a==c):\n",
    "        print('a and c are equal and greater than b');\n",
    "elif (a==b):\n",
    "    if(a>c):\n",
    "        print('a and b are equal and greater than c');\n",
    "    elif (c>a):\n",
    "        print('c is greatest');\n",
    "    elif (a==c):\n",
    "        print('all are equal');\n",
    "elif (b>c):\n",
    "    print('b is greatest');\n",
    "elif (b==c):\n",
    "    print('b and c are equal and greater than a')\n",
    "else:\n",
    "    print('c is greatest');"
   ]
  },
  {
   "cell_type": "markdown",
   "id": "f0144652",
   "metadata": {},
   "source": [
    "# Loop"
   ]
  },
  {
   "cell_type": "code",
   "execution_count": 13,
   "id": "08c498cf",
   "metadata": {},
   "outputs": [
    {
     "name": "stdout",
     "output_type": "stream",
     "text": [
      "0 1 Sunil\n",
      "1 2 Sunil\n",
      "2 3 Sunil\n",
      "3 4 Sunil\n",
      "4 5 Sunil\n",
      "5 6 Sunil\n",
      "6 7 Sunil\n",
      "7 8 Sunil\n",
      "8 9 Sunil\n",
      "9 10 Sunil\n"
     ]
    }
   ],
   "source": [
    "#print your name 10 times\n",
    "# i is the iterator\n",
    "# f is format\n",
    "for i in range(0,10):\n",
    "    print(f'{i} {i+1} Sunil')\n"
   ]
  },
  {
   "cell_type": "markdown",
   "id": "79a8887f",
   "metadata": {},
   "source": [
    "# Data types\n"
   ]
  },
  {
   "cell_type": "code",
   "execution_count": null,
   "id": "5e98fe22",
   "metadata": {},
   "outputs": [],
   "source": [
    "#List is a collections of elements, which can be of any data type like string or integer or float\n",
    "#Lists are mutable"
   ]
  },
  {
   "cell_type": "code",
   "execution_count": 15,
   "id": "058c5b66",
   "metadata": {},
   "outputs": [
    {
     "name": "stdout",
     "output_type": "stream",
     "text": [
      "[2, '2', True]\n"
     ]
    }
   ],
   "source": [
    "l = [2, '2', True]\n",
    "print(l)\n"
   ]
  },
  {
   "cell_type": "code",
   "execution_count": null,
   "id": "219375d0",
   "metadata": {},
   "outputs": [],
   "source": [
    "Given an integer, n, perform the following conditional actions:\n",
    "\n",
    "If n is odd, print Weird\n",
    "If n is even and in the inclusive range of 2 to 5, print Not Weird\n",
    "If n is even and in the inclusive range of 6 to 20, print Weird\n",
    "If n is even and greater than 20, print Not Weird\n",
    "Input Format"
   ]
  },
  {
   "cell_type": "code",
   "execution_count": 54,
   "id": "bf93afa5",
   "metadata": {},
   "outputs": [
    {
     "name": "stdout",
     "output_type": "stream",
     "text": [
      "Not Weird\n"
     ]
    }
   ],
   "source": [
    "n=24;\n",
    "if (((n%2==1) & (n<=100))|((n>=6) & (n<=20) & (n%2==0))):\n",
    "    print('Weird');\n",
    "elif ((n>=2) & (n<=5) & (n%2==0)) | ((n%2==0) & (n>20) & (n<=100)):\n",
    "    print('Not Weird');"
   ]
  },
  {
   "cell_type": "markdown",
   "id": "827a7d2e",
   "metadata": {},
   "source": [
    "# Sets"
   ]
  },
  {
   "cell_type": "code",
   "execution_count": 2,
   "id": "ef978d34",
   "metadata": {},
   "outputs": [],
   "source": [
    "set1 = {1,2,3,4,'google', 'python', 'google'}"
   ]
  },
  {
   "cell_type": "code",
   "execution_count": 3,
   "id": "b997fd29",
   "metadata": {},
   "outputs": [
    {
     "name": "stdout",
     "output_type": "stream",
     "text": [
      "{1, 2, 3, 4, 'python', 'google'}\n"
     ]
    }
   ],
   "source": [
    "print(set1)"
   ]
  },
  {
   "cell_type": "code",
   "execution_count": 8,
   "id": "36129fd1",
   "metadata": {},
   "outputs": [],
   "source": [
    "set2 = {1, 2,3,4,10, 111, 20,250, 32, 50, 60, 75, 'Python', 'SQL', 'microsoft', 'Google'};"
   ]
  },
  {
   "cell_type": "code",
   "execution_count": 9,
   "id": "06328284",
   "metadata": {},
   "outputs": [
    {
     "data": {
      "text/plain": [
       "{1,\n",
       " 10,\n",
       " 111,\n",
       " 2,\n",
       " 20,\n",
       " 250,\n",
       " 3,\n",
       " 32,\n",
       " 4,\n",
       " 50,\n",
       " 60,\n",
       " 75,\n",
       " 'Google',\n",
       " 'Python',\n",
       " 'SQL',\n",
       " 'google',\n",
       " 'microsoft',\n",
       " 'python'}"
      ]
     },
     "execution_count": 9,
     "metadata": {},
     "output_type": "execute_result"
    }
   ],
   "source": [
    "set1 | set2"
   ]
  },
  {
   "cell_type": "markdown",
   "id": "2675c0b6",
   "metadata": {},
   "source": [
    "# Dictionary"
   ]
  },
  {
   "cell_type": "code",
   "execution_count": 20,
   "id": "54c170d6",
   "metadata": {},
   "outputs": [
    {
     "data": {
      "text/plain": [
       "100"
      ]
     },
     "execution_count": 20,
     "metadata": {},
     "output_type": "execute_result"
    }
   ],
   "source": [
    "dic = {'Sunil':100, 'Sagar':200, 'Godwin':300, 'Teju':400, 'Munna':500}\n",
    "dic['Sunil']"
   ]
  },
  {
   "cell_type": "code",
   "execution_count": 25,
   "id": "8ddc5516",
   "metadata": {},
   "outputs": [
    {
     "name": "stdout",
     "output_type": "stream",
     "text": [
      "400\n"
     ]
    }
   ],
   "source": [
    "print(dic.get('Teju'))"
   ]
  },
  {
   "cell_type": "code",
   "execution_count": 27,
   "id": "a131ed16",
   "metadata": {},
   "outputs": [],
   "source": [
    "# make a dict using two lists\n",
    "# Keys = []\n",
    "# Values = []\n",
    "L1 = [1,2,3,4,'google', 'A', 'B']"
   ]
  },
  {
   "cell_type": "code",
   "execution_count": 28,
   "id": "ce8b438d",
   "metadata": {},
   "outputs": [
    {
     "data": {
      "text/plain": [
       "[1, 2, 3, 4, 'google', 'A', 'B']"
      ]
     },
     "execution_count": 28,
     "metadata": {},
     "output_type": "execute_result"
    }
   ],
   "source": [
    "L1"
   ]
  },
  {
   "cell_type": "code",
   "execution_count": 29,
   "id": "4c8c9b19",
   "metadata": {},
   "outputs": [
    {
     "name": "stdout",
     "output_type": "stream",
     "text": [
      "1\n",
      "3\n",
      "6\n",
      "10\n",
      "10\n",
      "10\n",
      "10\n"
     ]
    }
   ],
   "source": [
    "sum = 0;\n",
    "for i in L1:\n",
    "    if type(i) == int:\n",
    "        sum += i;\n",
    "    print(sum);"
   ]
  },
  {
   "cell_type": "code",
   "execution_count": null,
   "id": "0f2bbd08",
   "metadata": {},
   "outputs": [],
   "source": []
  },
  {
   "cell_type": "code",
   "execution_count": null,
   "id": "0b6137a6",
   "metadata": {},
   "outputs": [],
   "source": []
  },
  {
   "cell_type": "code",
   "execution_count": null,
   "id": "12e9baba",
   "metadata": {},
   "outputs": [],
   "source": []
  },
  {
   "cell_type": "code",
   "execution_count": null,
   "id": "53b82fed",
   "metadata": {},
   "outputs": [],
   "source": []
  },
  {
   "cell_type": "code",
   "execution_count": null,
   "id": "107c86da",
   "metadata": {},
   "outputs": [],
   "source": []
  },
  {
   "cell_type": "code",
   "execution_count": null,
   "id": "127955d9",
   "metadata": {},
   "outputs": [],
   "source": []
  },
  {
   "cell_type": "code",
   "execution_count": null,
   "id": "20367b9a",
   "metadata": {},
   "outputs": [],
   "source": []
  },
  {
   "cell_type": "code",
   "execution_count": null,
   "id": "1bac735a",
   "metadata": {},
   "outputs": [],
   "source": []
  }
 ],
 "metadata": {
  "kernelspec": {
   "display_name": "Python 3",
   "language": "python",
   "name": "python3"
  },
  "language_info": {
   "codemirror_mode": {
    "name": "ipython",
    "version": 3
   },
   "file_extension": ".py",
   "mimetype": "text/x-python",
   "name": "python",
   "nbconvert_exporter": "python",
   "pygments_lexer": "ipython3",
   "version": "3.8.8"
  }
 },
 "nbformat": 4,
 "nbformat_minor": 5
}
